{
 "cells": [
  {
   "cell_type": "code",
   "execution_count": null,
   "metadata": {},
   "outputs": [],
   "source": []
  },
  {
   "cell_type": "code",
   "execution_count": 2,
   "metadata": {},
   "outputs": [],
   "source": [
    "#Make sure that all the plugins needed are running\n",
    "from qiime2 import Artifact\n",
    "try:\n",
    "    from qiime2.plugins.diversity.methods import beta\n",
    "except:\n",
    "    from qiime2.plugins.diversity.pipelines import beta\n",
    "from qiime2.plugins.diversity.pipelines import beta_phylogenetic\n",
    "from qiime2.plugins.diversity.pipelines import core_metrics_phylogenetic\n",
    "from qiime2.plugins.diversity.visualizers import beta_group_significance\n",
    "from qiime2.plugins import diversity\n",
    "\n",
    "from qiime2.plugins.feature_table.methods import rarefy\n",
    "from qiime2.plugins.feature_table.visualizers import summarize\n",
    "\n",
    "from qiime2.metadata import Metadata\n",
    "from qiime2.plugins.feature_table.methods import filter_features\n",
    "\n",
    "from os.path import abspath,exists,join\n",
    "import shutil"
   ]
  },
  {
   "cell_type": "code",
   "execution_count": 3,
   "metadata": {},
   "outputs": [],
   "source": [
    "#check that required files exist\n",
    "phylo_tree= Artifact.load(\"../input/insertion-tree_silva_live_vs_dead_march.qza\")\n",
    "metadata=Metadata.load(\"../input/sample-metadata_live_vs_dead_combo.tsv\")\n",
    "feature_table=Artifact.load(\"../output/feature_table_live_vs_dead_rarefied.qza\")\n",
    "taxonomy=Artifact.load(\"../output/silva_metaxa2_reference_taxonomy_live_vs_dead.qza\")\n"
   ]
  },
  {
   "cell_type": "markdown",
   "metadata": {},
   "source": [
    "Beta Diversity Loop"
   ]
  },
  {
   "cell_type": "code",
   "execution_count": 6,
   "metadata": {},
   "outputs": [
    {
     "name": "stdout",
     "output_type": "stream",
     "text": [
      "Calculating beta diversity for live vs dead samples using weighted_unifrac\n",
      "Calculating beta diversity metrics for live vs dead using Time\n"
     ]
    },
    {
     "name": "stderr",
     "output_type": "stream",
     "text": [
      "/home/qiime2/miniconda/envs/qiime2-2020.11/lib/python3.6/site-packages/skbio/stats/ordination/_principal_coordinate_analysis.py:152: RuntimeWarning: The result contains negative eigenvalues. Please compare their magnitude with the magnitude of some of the largest positive eigenvalues. If the negative ones are smaller, it's probably safe to ignore them, but if they are large in magnitude, the results won't be useful. See the Notes section for more details. The smallest eigenvalue is -2.398166348022299 and the largest is 19.53608586307309.\n",
      "  RuntimeWarning\n",
      "/home/qiime2/miniconda/envs/qiime2-2020.11/lib/python3.6/site-packages/skbio/stats/ordination/_principal_coordinate_analysis.py:152: RuntimeWarning: The result contains negative eigenvalues. Please compare their magnitude with the magnitude of some of the largest positive eigenvalues. If the negative ones are smaller, it's probably safe to ignore them, but if they are large in magnitude, the results won't be useful. See the Notes section for more details. The smallest eigenvalue is -2.3981663480222997 and the largest is 19.536085863073072.\n",
      "  RuntimeWarning\n"
     ]
    },
    {
     "name": "stdout",
     "output_type": "stream",
     "text": [
      "saving significant results to {output_filepath}\n",
      "Calculating beta diversity metrics for live vs dead using Survival_State\n"
     ]
    },
    {
     "name": "stderr",
     "output_type": "stream",
     "text": [
      "/home/qiime2/miniconda/envs/qiime2-2020.11/lib/python3.6/site-packages/skbio/stats/ordination/_principal_coordinate_analysis.py:152: RuntimeWarning: The result contains negative eigenvalues. Please compare their magnitude with the magnitude of some of the largest positive eigenvalues. If the negative ones are smaller, it's probably safe to ignore them, but if they are large in magnitude, the results won't be useful. See the Notes section for more details. The smallest eigenvalue is -2.398166348022299 and the largest is 19.53608586307309.\n",
      "  RuntimeWarning\n",
      "/home/qiime2/miniconda/envs/qiime2-2020.11/lib/python3.6/site-packages/skbio/stats/ordination/_principal_coordinate_analysis.py:152: RuntimeWarning: The result contains negative eigenvalues. Please compare their magnitude with the magnitude of some of the largest positive eigenvalues. If the negative ones are smaller, it's probably safe to ignore them, but if they are large in magnitude, the results won't be useful. See the Notes section for more details. The smallest eigenvalue is -2.398166348022299 and the largest is 19.53608586307309.\n",
      "  RuntimeWarning\n"
     ]
    },
    {
     "name": "stdout",
     "output_type": "stream",
     "text": [
      "saving significant results to {output_filepath}\n",
      "Calculating beta diversity metrics for live vs dead using Bleaching_State\n"
     ]
    },
    {
     "name": "stderr",
     "output_type": "stream",
     "text": [
      "/home/qiime2/miniconda/envs/qiime2-2020.11/lib/python3.6/site-packages/skbio/stats/ordination/_principal_coordinate_analysis.py:152: RuntimeWarning: The result contains negative eigenvalues. Please compare their magnitude with the magnitude of some of the largest positive eigenvalues. If the negative ones are smaller, it's probably safe to ignore them, but if they are large in magnitude, the results won't be useful. See the Notes section for more details. The smallest eigenvalue is -2.398166348022301 and the largest is 19.536085863073087.\n",
      "  RuntimeWarning\n"
     ]
    },
    {
     "name": "stdout",
     "output_type": "stream",
     "text": [
      "saving significant results to {output_filepath}\n",
      "Calculating beta diversity for live vs dead samples using unweighted_unifrac\n",
      "Calculating beta diversity metrics for live vs dead using Time\n"
     ]
    },
    {
     "name": "stderr",
     "output_type": "stream",
     "text": [
      "/home/qiime2/miniconda/envs/qiime2-2020.11/lib/python3.6/site-packages/skbio/stats/ordination/_principal_coordinate_analysis.py:152: RuntimeWarning: The result contains negative eigenvalues. Please compare their magnitude with the magnitude of some of the largest positive eigenvalues. If the negative ones are smaller, it's probably safe to ignore them, but if they are large in magnitude, the results won't be useful. See the Notes section for more details. The smallest eigenvalue is -0.007527095795785296 and the largest is 1.9334800722704901.\n",
      "  RuntimeWarning\n",
      "/home/qiime2/miniconda/envs/qiime2-2020.11/lib/python3.6/site-packages/skbio/stats/ordination/_principal_coordinate_analysis.py:152: RuntimeWarning: The result contains negative eigenvalues. Please compare their magnitude with the magnitude of some of the largest positive eigenvalues. If the negative ones are smaller, it's probably safe to ignore them, but if they are large in magnitude, the results won't be useful. See the Notes section for more details. The smallest eigenvalue is -0.007527095795785333 and the largest is 1.9334800722704908.\n",
      "  RuntimeWarning\n"
     ]
    },
    {
     "name": "stdout",
     "output_type": "stream",
     "text": [
      "saving significant results to {output_filepath}\n",
      "Calculating beta diversity metrics for live vs dead using Survival_State\n"
     ]
    },
    {
     "name": "stderr",
     "output_type": "stream",
     "text": [
      "/home/qiime2/miniconda/envs/qiime2-2020.11/lib/python3.6/site-packages/skbio/stats/ordination/_principal_coordinate_analysis.py:152: RuntimeWarning: The result contains negative eigenvalues. Please compare their magnitude with the magnitude of some of the largest positive eigenvalues. If the negative ones are smaller, it's probably safe to ignore them, but if they are large in magnitude, the results won't be useful. See the Notes section for more details. The smallest eigenvalue is -0.007527095795785296 and the largest is 1.9334800722704901.\n",
      "  RuntimeWarning\n",
      "/home/qiime2/miniconda/envs/qiime2-2020.11/lib/python3.6/site-packages/skbio/stats/ordination/_principal_coordinate_analysis.py:152: RuntimeWarning: The result contains negative eigenvalues. Please compare their magnitude with the magnitude of some of the largest positive eigenvalues. If the negative ones are smaller, it's probably safe to ignore them, but if they are large in magnitude, the results won't be useful. See the Notes section for more details. The smallest eigenvalue is -0.007527095795785296 and the largest is 1.9334800722704901.\n",
      "  RuntimeWarning\n"
     ]
    },
    {
     "name": "stdout",
     "output_type": "stream",
     "text": [
      "saving significant results to {output_filepath}\n",
      "Calculating beta diversity metrics for live vs dead using Bleaching_State\n"
     ]
    },
    {
     "name": "stderr",
     "output_type": "stream",
     "text": [
      "/home/qiime2/miniconda/envs/qiime2-2020.11/lib/python3.6/site-packages/skbio/stats/ordination/_principal_coordinate_analysis.py:152: RuntimeWarning: The result contains negative eigenvalues. Please compare their magnitude with the magnitude of some of the largest positive eigenvalues. If the negative ones are smaller, it's probably safe to ignore them, but if they are large in magnitude, the results won't be useful. See the Notes section for more details. The smallest eigenvalue is -0.007527095795785265 and the largest is 1.9334800722704908.\n",
      "  RuntimeWarning\n"
     ]
    },
    {
     "name": "stdout",
     "output_type": "stream",
     "text": [
      "saving significant results to {output_filepath}\n"
     ]
    }
   ],
   "source": [
    "metrics=['weighted_unifrac', 'unweighted_unifrac']\n",
    "column_names=['Time','Survival_State', 'Bleaching_State']\n",
    "for metric in metrics:\n",
    "    print(f\"Calculating beta diversity for live vs dead samples using {metric}\")\n",
    "    beta_results=beta_phylogenetic(table=feature_table, phylogeny=phylo_tree, metric=metric)\n",
    "    beta_dm=beta_results.distance_matrix\n",
    "    \n",
    "    #calculate diversity using specific columns\n",
    "    #change to true if want pairwise comparisons\n",
    "    for column in column_names:\n",
    "        print(f\"Calculating beta diversity metrics for live vs dead using {column}\")\n",
    "        pairwise_beta_diversity=diversity.actions.beta_group_significance\\\n",
    "              (distance_matrix=beta_dm, metadata=metadata.get_column(column),\\\n",
    "              method='permdisp', pairwise=True)\n",
    "        \n",
    "        #visualize and save data\n",
    "        beta_pairwise_visualization=pairwise_beta_diversity.visualization\n",
    "        output_filename=f\"beta_phylo_permdisp_live_vs_dead_{metric}_{column}.qzv\"\n",
    "        output_filepath=join(\"../output\",output_filename)\n",
    "        print(\"saving significant results to {output_filepath}\")\n",
    "        beta_pairwise_visualization.save(output_filepath)"
   ]
  },
  {
   "cell_type": "code",
   "execution_count": 10,
   "metadata": {},
   "outputs": [
    {
     "name": "stdout",
     "output_type": "stream",
     "text": [
      "Calculating beta diversity for live vs dead samples using weighted_unifrac\n",
      "Calculating beta diversity metrics for live vs dead using Time_&_Status\n",
      "saving significant results to {output_filepath}\n",
      "Calculating beta diversity metrics for live vs dead using Susceptible_Status\n",
      "saving significant results to {output_filepath}\n",
      "Calculating beta diversity metrics for live vs dead using Susceptible_Status_Time\n",
      "saving significant results to {output_filepath}\n",
      "Calculating beta diversity for live vs dead samples using unweighted_unifrac\n",
      "Calculating beta diversity metrics for live vs dead using Time_&_Status\n",
      "saving significant results to {output_filepath}\n",
      "Calculating beta diversity metrics for live vs dead using Susceptible_Status\n",
      "saving significant results to {output_filepath}\n",
      "Calculating beta diversity metrics for live vs dead using Susceptible_Status_Time\n",
      "saving significant results to {output_filepath}\n"
     ]
    }
   ],
   "source": [
    "metrics=['weighted_unifrac', 'unweighted_unifrac']\n",
    "column_names=['Time_&_Status','Susceptible_Status', 'Susceptible_Status_Time']\n",
    "for metric in metrics:\n",
    "    print(f\"Calculating beta diversity for live vs dead samples using {metric}\")\n",
    "    core_results=core_phylogenetic(table=feature_table, phylogeny=phylo_tree, metric=metric)\n",
    "    beta_dm=core_results.distance_matrix\n",
    "    \n",
    "    #calculate diversity using specific columns\n",
    "    #change to true if want pairwise comparisons\n",
    "    for column in column_names:\n",
    "        print(f\"Calculating beta diversity metrics for live vs dead using {column}\")\n",
    "        pairwise_beta_diversity=diversity.actions.core_metrics_phylogenetic\\\n",
    "              (distance_matrix=beta_dm, metadata=metadata.get_column(column),\\\n",
    "              method='permanova', pairwise=True)\n",
    "        \n",
    "        #visualize and save data\n",
    "        beta_pairwise_visualization=pairwise_beta_diversity.visualization\n",
    "        output_filename=f\"beta_phylo_permanova_live_vs_dead_{metric}_{column}.qzv\"\n",
    "        output_filepath=join(\"../output\",output_filename)\n",
    "        print(\"saving significant results to {output_filepath}\")\n",
    "        beta_pairwise_visualization.save(output_filepath)"
   ]
  },
  {
   "cell_type": "code",
   "execution_count": 3,
   "metadata": {},
   "outputs": [
    {
     "name": "stdout",
     "output_type": "stream",
     "text": [
      "Usage: \u001b[34mqiime dev\u001b[0m [OPTIONS] COMMAND [ARGS]...\n",
      "Try 'qiime dev --help' for help.\n",
      "\n",
      "Error: No such command 'refresh-cach'.\n"
     ]
    }
   ],
   "source": [
    "#run DEICODE on Live vs Dead data\n",
    "!qiime dev refresh-cach"
   ]
  },
  {
   "cell_type": "code",
   "execution_count": 6,
   "metadata": {},
   "outputs": [
    {
     "name": "stdout",
     "output_type": "stream",
     "text": [
      "\u001b[32mSaved PCoAResults % Properties('biplot') to: ../output/ordination_plot.qza\u001b[0m\n",
      "\u001b[32mSaved DistanceMatrix to: ../output/distance_matrix_lvsd.qza\u001b[0m\n"
     ]
    }
   ],
   "source": [
    "table_raw=Artifact.load(\"../output/feature_table_live_vs_dead.qza\")\n",
    "!qiime deicode auto-rpca\\\n",
    "    --i-table ../output/feature_table_live_vs_dead.qza\\\n",
    "    --p-min-feature-count 2\\\n",
    "    --p-min-sample-count 2\\\n",
    "    --o-biplot \"../output/ordination_plot.qza\"\\\n",
    "    --o-distance-matrix \"../output/distance_matrix_lvsd.qza\""
   ]
  },
  {
   "cell_type": "code",
   "execution_count": 9,
   "metadata": {},
   "outputs": [
    {
     "name": "stdout",
     "output_type": "stream",
     "text": [
      "\u001b[32mSaved Visualization to: ../output/biplot_l_vs_d.qzv\u001b[0m\n"
     ]
    }
   ],
   "source": [
    "#create and emperer biplot\n",
    "!qiime emperor biplot\\\n",
    "    --i-biplot \"../output/ordination_plot.qza\"\\\n",
    "    --m-sample-metadata-file \"../input/sample-metadata_live_vs_dead_combo.tsv\"\\\n",
    "    --m-feature-metadata-file \"../input/silva_metaxa2_reference_taxonomy_live_vs_dead.qza\"\\\n",
    "    --o-visualization \"../output/biplot_l_vs_d.qzv\"\\\n",
    "    --p-number-of-features 10"
   ]
  },
  {
   "cell_type": "code",
   "execution_count": 12,
   "metadata": {},
   "outputs": [
    {
     "name": "stdout",
     "output_type": "stream",
     "text": [
      "\u001b[32mSaved Visualization to: ../output/beta_group_time_status.qzv\u001b[0m\n"
     ]
    }
   ],
   "source": [
    "#run group significance to see\n",
    "!qiime diversity beta-group-significance\\\n",
    "    --i-distance-matrix \"../output/distance_matrix_lvsd.qza\"\\\n",
    "    --m-metadata-file \"../input/sample-metadata_live_vs_dead_combo.tsv\"\\\n",
    "    --m-metadata-column 'Time_&_Status'\\\n",
    "    --p-method permanova\\\n",
    "    --o-visualization \"../output/beta_group_time_status.qzv\""
   ]
  },
  {
   "cell_type": "code",
   "execution_count": 14,
   "metadata": {},
   "outputs": [
    {
     "name": "stdout",
     "output_type": "stream",
     "text": [
      "\u001b[31m\u001b[1mError: QIIME 2 has no plugin/command named 'qurro'.\u001b[0m\n"
     ]
    }
   ],
   "source": [
    "#qurro loading plot\n",
    "!qiime qurro loading-plot\\\n",
    "    --i-ranks \"../output/ordination_plot.qza\"\\\n",
    "    --i-table \"../output/feature_table_live_vs_dead.qza\"\\\n",
    "    --m-sample-metadata-file \"../input/sample-metadata_live_vs_dead_combo.tsv\"\\\n",
    "    --m-feature-metadata-file \"../input/silva_metaxa2_reference_taxonomy_live_vs_dead.qza\"\\\n",
    "    --o-visualization \"../output/qurro_plot_l_vs_d.qzv\""
   ]
  },
  {
   "cell_type": "markdown",
   "metadata": {},
   "source": [
    "##Run RPCA on nonpylogenetic data to see is we can ID some microbes!"
   ]
  },
  {
   "cell_type": "code",
   "execution_count": null,
   "metadata": {},
   "outputs": [],
   "source": [
    "from biom import load_table\n",
    "from deicode.rpca import auto_replica\n",
    "#use the feature table that is not rareified\n",
    "table_raw=Artifact.load(\"../output/feature_table_live_vs_dead.qza\")\n",
    "#perform RPCA with auto rank estimation\n",
    "ordination, distance=auto_rpca(table_raw)"
   ]
  }
 ],
 "metadata": {
  "kernelspec": {
   "display_name": "Python 3",
   "language": "python",
   "name": "python3"
  },
  "language_info": {
   "codemirror_mode": {
    "name": "ipython",
    "version": 3
   },
   "file_extension": ".py",
   "mimetype": "text/x-python",
   "name": "python",
   "nbconvert_exporter": "python",
   "pygments_lexer": "ipython3",
   "version": "3.6.12"
  }
 },
 "nbformat": 4,
 "nbformat_minor": 4
}
