{
 "cells": [
  {
   "cell_type": "markdown",
   "metadata": {},
   "source": [
    "Classify Taxonomy with vsearch!"
   ]
  },
  {
   "cell_type": "markdown",
   "metadata": {},
   "source": [
    "We will run vsearch on the Dead vs Live Montipora data."
   ]
  },
  {
   "cell_type": "code",
   "execution_count": 1,
   "metadata": {},
   "outputs": [],
   "source": [
    "from qiime2 import Artifact\n",
    "from qiime2.plugins.feature_classifier.methods import classify_consensus_vsearch\n",
    "from qiime2.metadata import Metadata\n",
    "from os.path import abspath,exists"
   ]
  },
  {
   "cell_type": "code",
   "execution_count": 2,
   "metadata": {},
   "outputs": [],
   "source": [
    "working_dir = abspath('../')\n",
    "metadata_path = working_dir + '/input/sample-metadata_live_vs_dead_combo.tsv'\n",
    "seqs_path = working_dir + '/output/rep-seqs_merged.qza'\n",
    "taxonomy_reference = working_dir + '/input/taxonomy_reference'"
   ]
  },
  {
   "cell_type": "code",
   "execution_count": 3,
   "metadata": {},
   "outputs": [
    {
     "name": "stdout",
     "output_type": "stream",
     "text": [
      "Verifying that all needed starting data files exist.\n",
      "Done\n"
     ]
    }
   ],
   "source": [
    "print(\"Verifying that all needed starting data files exist.\")\n",
    "for existing_file in [working_dir, metadata_path, seqs_path, taxonomy_reference]:\n",
    "    if not exists(existing_file):\n",
    "        raise IOError (f\"Required file {existing_file} not found. Please ensure it is in the directory.\")\n",
    "print(\"Done\")"
   ]
  },
  {
   "cell_type": "code",
   "execution_count": 4,
   "metadata": {},
   "outputs": [
    {
     "name": "stdout",
     "output_type": "stream",
     "text": [
      "Running external command line application. This may print messages to stdout and/or stderr.\n",
      "The command being run is below. This command cannot be manually re-run as it will depend on temporary files that no longer exist.\n",
      "\n",
      "Command: vsearch --usearch_global /tmp/qiime2-archive-tme0pv66/d7bb1a41-d3e8-465f-be11-90b58e1cf211/data/dna-sequences.fasta --id 0.8 --query_cov 0.8 --strand both --maxaccepts 10 --maxrejects 0 --db /tmp/qiime2-archive-92i1_1dv/4b6eaf06-b6cc-466c-a18f-74fb7ff7853f/data/dna-sequences.fasta --threads 1 --output_no_hits --blast6out /tmp/tmpsojcvjqh\n",
      "\n"
     ]
    }
   ],
   "source": [
    "references = ['silva_metaxa2']\n",
    "metadata = Metadata.load(metadata_path)\n",
    "seqs = Artifact.load(seqs_path)\n",
    "reference_otu_path = working_dir + '/input/taxonomy_reference/silva_m2_otu.qza'\n",
    "reference_taxonomy_path = working_dir + '/input/taxonomy_reference/silva_m2_taxonomy.qza'\n",
    "reads = Artifact.load(reference_otu_path)\n",
    "taxonomy = Artifact.load(reference_taxonomy_path)\n",
    "vsearch_results = classify_consensus_vsearch(seqs, reads, taxonomy)"
   ]
  },
  {
   "cell_type": "code",
   "execution_count": 5,
   "metadata": {},
   "outputs": [
    {
     "data": {
      "text/plain": [
       "'/home/qiime2/Montipora_live_vs_dead/output/silva_metaxa2_reference_taxonomy_live_vs_dead.qza'"
      ]
     },
     "execution_count": 5,
     "metadata": {},
     "output_type": "execute_result"
    }
   ],
   "source": [
    "classify_taxonomy, = vsearch_results\n",
    "classify_taxonomy.save(working_dir + '/output/silva_metaxa2_reference_taxonomy_live_vs_dead.qza')"
   ]
  },
  {
   "cell_type": "code",
   "execution_count": null,
   "metadata": {},
   "outputs": [],
   "source": []
  }
 ],
 "metadata": {
  "kernelspec": {
   "display_name": "Python 3",
   "language": "python",
   "name": "python3"
  },
  "language_info": {
   "codemirror_mode": {
    "name": "ipython",
    "version": 3
   },
   "file_extension": ".py",
   "mimetype": "text/x-python",
   "name": "python",
   "nbconvert_exporter": "python",
   "pygments_lexer": "ipython3",
   "version": "3.6.12"
  }
 },
 "nbformat": 4,
 "nbformat_minor": 4
}
