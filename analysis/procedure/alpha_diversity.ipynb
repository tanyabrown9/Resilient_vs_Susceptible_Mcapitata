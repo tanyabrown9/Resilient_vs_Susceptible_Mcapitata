{
 "cells": [
  {
   "cell_type": "markdown",
   "metadata": {},
   "source": [
    "Alpha Diversity"
   ]
  },
  {
   "cell_type": "code",
   "execution_count": 1,
   "metadata": {},
   "outputs": [],
   "source": [
    "#Make sure that all the plugins needed are running\n",
    "from qiime2 import Artifact\n",
    "try:\n",
    "    from qiime2.plugins.diversity.methods import alpha\n",
    "except:\n",
    "    from qiime2.plugins.diversity.pipelines import alpha\n",
    "from qiime2.plugins.diversity.pipelines import alpha_phylogenetic\n",
    "from qiime2.plugins.diversity.visualizers import alpha_group_significance\n",
    "\n",
    "from qiime2.plugins.feature_table.methods import rarefy\n",
    "from qiime2.plugins.feature_table.visualizers import summarize\n",
    "\n",
    "from qiime2.metadata import Metadata\n",
    "from qiime2.plugins.feature_table.methods import filter_features\n",
    "\n",
    "from os.path import abspath,exists,join\n",
    "import shutil"
   ]
  },
  {
   "cell_type": "markdown",
   "metadata": {},
   "source": [
    "Load Data"
   ]
  },
  {
   "cell_type": "code",
   "execution_count": 2,
   "metadata": {},
   "outputs": [],
   "source": [
    "#check that required files exist\n",
    "phylo_tree= Artifact.load(\"../input/insertion-tree_silva_live_vs_dead_march.qza\")\n",
    "metadata=Metadata.load(\"../input/sample-metadata_live_vs_dead_combo.tsv\")\n",
    "feature_table=Artifact.load(\"../output/feature_table_live_vs_dead_rarefied.qza\")\n"
   ]
  },
  {
   "cell_type": "code",
   "execution_count": 3,
   "metadata": {},
   "outputs": [
    {
     "name": "stdout",
     "output_type": "stream",
     "text": [
      "Calculating alpha diversity for the live vs dead samples\n",
      "Saving results to: {output_filepath}\n",
      "Saving file to: {output_filepath}\n"
     ]
    },
    {
     "data": {
      "text/plain": [
       "'../output/live_vs_dead_faith_pd_group_sig.qzv'"
      ]
     },
     "execution_count": 3,
     "metadata": {},
     "output_type": "execute_result"
    }
   ],
   "source": [
    "#calculate alpha diversity\n",
    "metrics = 'faith_pd'\n",
    "print(\"Calculating alpha diversity for the live vs dead samples\")\n",
    "alpha_results = alpha_phylogenetic(table=feature_table,metric=metrics,phylogeny=phylo_tree)\n",
    "alpha_diversity = alpha_results.alpha_diversity\n",
    "\n",
    "#save resulting feature table to the disk\n",
    "output_filename=\"live_vs_dead_faith_pd.qza\"\n",
    "output_filepath=join(\"../output\",output_filename)\n",
    "print(\"Saving results to: {output_filepath}\")\n",
    "alpha_diversity.save(output_filepath)\n",
    "\n",
    "#Calculate alpha group significance\n",
    "alpha_group_sig_results=alpha_group_significance(alpha_diversity=alpha_diversity, metadata=metadata)\n",
    "alpha_group_sig_visualization=alpha_group_sig_results.visualization\n",
    "output_filename=\"live_vs_dead_faith_pd_group_sig.qzv\"\n",
    "output_filepath=join(\"../output\",output_filename)\n",
    "print(\"Saving file to: {output_filepath}\")\n",
    "alpha_group_sig_visualization.save(output_filepath)"
   ]
  },
  {
   "cell_type": "code",
   "execution_count": null,
   "metadata": {},
   "outputs": [],
   "source": []
  }
 ],
 "metadata": {
  "kernelspec": {
   "display_name": "Python 3",
   "language": "python",
   "name": "python3"
  },
  "language_info": {
   "codemirror_mode": {
    "name": "ipython",
    "version": 3
   },
   "file_extension": ".py",
   "mimetype": "text/x-python",
   "name": "python",
   "nbconvert_exporter": "python",
   "pygments_lexer": "ipython3",
   "version": "3.6.12"
  }
 },
 "nbformat": 4,
 "nbformat_minor": 4
}
