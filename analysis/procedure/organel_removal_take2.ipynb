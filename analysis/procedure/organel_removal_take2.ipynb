{
 "cells": [
  {
   "cell_type": "markdown",
   "metadata": {},
   "source": [
    "Removing Mitochondria and Chloroplasts from sequences"
   ]
  },
  {
   "cell_type": "code",
   "execution_count": 13,
   "metadata": {},
   "outputs": [],
   "source": [
    "#get programs to do work (assume we already downloaded the files)\n",
    "import urllib.request\n",
    "import shutil\n",
    "import os"
   ]
  },
  {
   "cell_type": "code",
   "execution_count": 14,
   "metadata": {},
   "outputs": [],
   "source": [
    "#setup file paths\n",
    "data_folder=os.path.abspath(\"../input/data_folder\")"
   ]
  },
  {
   "cell_type": "code",
   "execution_count": 8,
   "metadata": {},
   "outputs": [
    {
     "name": "stdout",
     "output_type": "stream",
     "text": [
      "Started in working directory: /home/qiime2/Montipora_live_vs_dead\n",
      "Change folder to  /home/qiime2/Montipora_live_vs_dead/input/data_folder/Metaxa2_2.2.3/metaxa2_db/SSU\n"
     ]
    }
   ],
   "source": [
    "#silva and Metaxa2 have already been downloaded from the approptriate websites\n",
    "#Get fasta files out of Metaxa2 Blast Database\n",
    "#need to loadt BLAST+\n",
    "#starting_folder = os.getcwd()\n",
    "#print(f\"Started in working directory: {starting_folder}\")\n",
    "#metaxa2_db_folder = os.path.join(data_folder,\"Metaxa2_2.2.3\",\"metaxa2_db\",\"SSU\")\n",
    "#os.chdir(metaxa2_db_folder)\n",
    "#print(\"Change folder to \", os.getcwd())"
   ]
  },
  {
   "cell_type": "code",
   "execution_count": 16,
   "metadata": {},
   "outputs": [
    {
     "name": "stdout",
     "output_type": "stream",
     "text": [
      "Extracting SILVA database...\n",
      "Extracted the SILVA 132 database into: /home/qiime2/Montipora_live_vs_dead/input/data_folder\n"
     ]
    }
   ],
   "source": [
    "local_silva_filename = \"Silva_132_release.zip\"\n",
    "local_silva_filepath = os.path.join(data_folder,local_silva_filename)\n",
    "from zipfile import is_zipfile, ZipFile\n",
    "\n",
    "if not is_zipfile(\"../input/data_folder/Silva_132_release.zip\"):\n",
    "    raise ValueError(\"The SILVA database zip file {local_silva_filepath} doesn't look like a zip file. Was it downloaded correctly?\")\n",
    "\n",
    "silva_zipfile = ZipFile(local_silva_filepath)\n",
    "\n",
    "#Obnoxiously this file contains a _MACOSX subfolder. We don't want to unzip that...\n",
    "files_to_extract = [m for m in silva_zipfile.namelist() if \"_MACOSX\" not in m]\n",
    "print(\"Extracting SILVA database...\")\n",
    "silva_zipfile.extractall(path = data_folder,members = files_to_extract)\n",
    "silva_zipfile.close()\n",
    "print(f\"Extracted the SILVA 132 database into: {data_folder}\")"
   ]
  },
  {
   "cell_type": "code",
   "execution_count": 10,
   "metadata": {},
   "outputs": [
    {
     "name": "stdout",
     "output_type": "stream",
     "text": [
      "Generating fasta file from Metaxa2 BLAST database\n",
      "Resulting Fasta File(s):\n",
      "./metaxa2.fasta\n",
      "mv: missing destination file operand after 'metaxa2.fasta'\n",
      "Try 'mv --help' for more information.\n"
     ]
    },
    {
     "ename": "NameError",
     "evalue": "name 'metaxa2_fasta_filepath' is not defined",
     "output_type": "error",
     "traceback": [
      "\u001b[0;31m---------------------------------------------------------------------------\u001b[0m",
      "\u001b[0;31mNameError\u001b[0m                                 Traceback (most recent call last)",
      "\u001b[0;32m<ipython-input-10-84c1e1b56861>\u001b[0m in \u001b[0;36m<module>\u001b[0;34m\u001b[0m\n\u001b[1;32m      7\u001b[0m \u001b[0mget_ipython\u001b[0m\u001b[0;34m(\u001b[0m\u001b[0;34m)\u001b[0m\u001b[0;34m.\u001b[0m\u001b[0msystem\u001b[0m\u001b[0;34m(\u001b[0m\u001b[0;34m'ls ./*.fasta'\u001b[0m\u001b[0;34m)\u001b[0m\u001b[0;34m\u001b[0m\u001b[0;34m\u001b[0m\u001b[0m\n\u001b[1;32m      8\u001b[0m \u001b[0mget_ipython\u001b[0m\u001b[0;34m(\u001b[0m\u001b[0;34m)\u001b[0m\u001b[0;34m.\u001b[0m\u001b[0msystem\u001b[0m\u001b[0;34m(\u001b[0m\u001b[0;34m'mv metaxa2.fasta $metaxa2_fasta_filepath'\u001b[0m\u001b[0;34m)\u001b[0m\u001b[0;34m\u001b[0m\u001b[0;34m\u001b[0m\u001b[0m\n\u001b[0;32m----> 9\u001b[0;31m \u001b[0mprint\u001b[0m\u001b[0;34m(\u001b[0m\u001b[0;34mf\"Moved metaxa2.fasta to {metaxa2_fasta_filepath}\"\u001b[0m\u001b[0;34m)\u001b[0m\u001b[0;34m\u001b[0m\u001b[0;34m\u001b[0m\u001b[0m\n\u001b[0m\u001b[1;32m     10\u001b[0m \u001b[0mos\u001b[0m\u001b[0;34m.\u001b[0m\u001b[0mchdir\u001b[0m\u001b[0;34m(\u001b[0m\u001b[0mstarting_folder\u001b[0m\u001b[0;34m)\u001b[0m\u001b[0;34m\u001b[0m\u001b[0;34m\u001b[0m\u001b[0m\n\u001b[1;32m     11\u001b[0m \u001b[0mprint\u001b[0m\u001b[0;34m(\u001b[0m\u001b[0;34m\"Changed working directory back to: \"\u001b[0m\u001b[0;34m,\u001b[0m \u001b[0mos\u001b[0m\u001b[0;34m.\u001b[0m\u001b[0mgetcwd\u001b[0m\u001b[0;34m(\u001b[0m\u001b[0;34m)\u001b[0m\u001b[0;34m)\u001b[0m\u001b[0;34m\u001b[0m\u001b[0;34m\u001b[0m\u001b[0m\n",
      "\u001b[0;31mNameError\u001b[0m: name 'metaxa2_fasta_filepath' is not defined"
     ]
    }
   ],
   "source": [
    "#generate the fasta from metaxa2 blast database\n",
    "#print(\"Generating fasta file from Metaxa2 BLAST database\")\n",
    "#Need to get out of python to do this part\n",
    "#!blastdbcmd -entry all -db blast -out metaxa2.fasta\n",
    "\n",
    "#print(\"Resulting Fasta File(s):\")\n",
    "#!ls ./*.fasta\n",
    "#!mv metaxa2.fasta $metaxa2_fasta_filepath\n",
    "#print(f\"Moved metaxa2.fasta to {metaxa2_fasta_filepath}\")\n",
    "#os.chdir(starting_folder)\n",
    "#print(\"Changed working directory back to: \", os.getcwd())"
   ]
  },
  {
   "cell_type": "markdown",
   "metadata": {},
   "source": [
    "Now we will set up the combined Silva Metaxa2 database and run it on the sequences"
   ]
  },
  {
   "cell_type": "code",
   "execution_count": 1,
   "metadata": {},
   "outputs": [],
   "source": [
    "from Bio import SeqIO\n",
    "from qiime2 import Artifact\n",
    "import os"
   ]
  },
  {
   "cell_type": "code",
   "execution_count": 2,
   "metadata": {},
   "outputs": [],
   "source": [
    "#set up working directory\n",
    "working_dir = os.path.abspath('../input/data_folder/')\n",
    "\n",
    "#existing files\n",
    "silva_fasta_path = working_dir + '/SILVA_132_QIIME_release/rep_set/rep_set_16S_only/99/silva_132_99_16S.fna'\n",
    "silva_taxonomy_path = working_dir + '/SILVA_132_QIIME_release/taxonomy/16S_only/99/taxonomy_7_levels.txt'\n",
    "m2_fasta_path = working_dir + '/metaxa2.fasta'\n",
    "\n",
    "#new intermediate raw files\n",
    "silva_plus_m2_fasta_path = working_dir + '/m2+silva_otu.fasta'\n",
    "silva_plus_m2_taxonomy_path = working_dir + '/m2+silva_taxonomy.txt'\n",
    "\n",
    "#new qiime qza raw files\n",
    "silva_otu_qza = working_dir + '/silva_otu.qza'\n",
    "silva_taxonomy = working_dir + '/silva_taxonomy.qza'\n",
    "silva_m2_otu_qza = working_dir + '/silva_metaxa2_otu.qza'\n",
    "silva_m2_taxonomy_qza = working_dir + '/silva_metaxa2_taxonomy.qza'"
   ]
  },
  {
   "cell_type": "markdown",
   "metadata": {},
   "source": [
    "Verify input files"
   ]
  },
  {
   "cell_type": "code",
   "execution_count": 3,
   "metadata": {},
   "outputs": [
    {
     "name": "stdout",
     "output_type": "stream",
     "text": [
      "Verifying that all needed starting data files exist.\n",
      "Done\n"
     ]
    }
   ],
   "source": [
    "print(\"Verifying that all needed starting data files exist.\")\n",
    "for existing_file in [silva_fasta_path, silva_taxonomy_path, m2_fasta_path]:\n",
    "    if not os.path.exists(existing_file):\n",
    "        raise IOError (f\"Required file {existing_file} not found. Please ensure it is in the directory.\")\n",
    "print(\"Done\")"
   ]
  },
  {
   "cell_type": "markdown",
   "metadata": {},
   "source": [
    "Supplement SILVA database with metaxa2"
   ]
  },
  {
   "cell_type": "code",
   "execution_count": 4,
   "metadata": {},
   "outputs": [],
   "source": [
    "#extract mitochondrial sequences from Metaxa2 and create a seperate fasta and taxonomy file in the style of SILVA\n",
    "otu_file = open(silva_plus_m2_fasta_path, \"a\")\n",
    "taxonomy_file = open(silva_plus_m2_taxonomy_path, \"a\")\n",
    "\n",
    "for i, entry in enumerate(SeqIO.parse(m2_fasta_path, \"fasta\")):\n",
    "    if 'mitochondria' in entry.description or 'Mitochondria' in entry.description:\n",
    "        otu_file.write(\">metaxa2_\" + str(i) + \"\\n\")\n",
    "        otu_file.write(str(entry.seq + \"\\n\"))\n",
    "        taxonomy_file.write(\"metaxa2_\" + str(i) + \"\\tD_O_Bacteria;D_1_Proteobacteria;D_2_Alphaproteobacteria;D_3_Rickettsiales;D_4_Mitochondria;D_5_uncultured bacterium;D_6_uncultured bacterium\\n\")\n",
    "    else:\n",
    "        continue"
   ]
  },
  {
   "cell_type": "code",
   "execution_count": null,
   "metadata": {},
   "outputs": [],
   "source": []
  },
  {
   "cell_type": "code",
   "execution_count": 5,
   "metadata": {},
   "outputs": [],
   "source": [
    "otu_file = open(silva_plus_m2_fasta_path, \"a\")\n",
    "#copy silva otus into the combined fasta file \n",
    "for entry in SeqIO.parse(silva_fasta_path, \"fasta\"):\n",
    "    otu_file.write(\">\" + str(entry.description) + \"\\n\")\n",
    "    otu_file.write(str(entry.seq) + \"\\n\")\n",
    "    #print(\">\" + str(entry.description) +\"\\n\")\n",
    "    #print(str(entry.seq)+\"\\n\")\n",
    "   "
   ]
  },
  {
   "cell_type": "code",
   "execution_count": 31,
   "metadata": {},
   "outputs": [],
   "source": [
    "#copy Silva OTUs into combined fasta file\n",
    "#for entry in SeqIO.parse(silva_fasta_path, \"fasta\"):\n",
    " #   otu_file.write(\">\" + str(entry.description + \"\\n\"))\n",
    "  #  otu_file.write(str(entry.seq + \"\\n\"))"
   ]
  },
  {
   "cell_type": "code",
   "execution_count": 6,
   "metadata": {},
   "outputs": [],
   "source": [
    "#copy silva Taxonomy to new file\n",
    "silva_taxonomy_file = open(silva_taxonomy_path)\n",
    "for line in silva_taxonomy_file:\n",
    "    taxonomy_file.write(line)"
   ]
  },
  {
   "cell_type": "code",
   "execution_count": 7,
   "metadata": {},
   "outputs": [
    {
     "name": "stdout",
     "output_type": "stream",
     "text": [
      "Verify that all silva_plus_metaxa2 data files were created\n",
      "Sucessfully created file: /home/qiime2/Montipora_live_vs_dead/input/data_folder/m2+silva_otu.fasta\n",
      "Sucessfully created file: /home/qiime2/Montipora_live_vs_dead/input/data_folder/m2+silva_taxonomy.txt\n",
      "Done\n"
     ]
    }
   ],
   "source": [
    "#verify we created the files\n",
    "\n",
    "print(\"Verify that all silva_plus_metaxa2 data files were created\")\n",
    "for created_file in [silva_plus_m2_fasta_path, silva_plus_m2_taxonomy_path]:\n",
    "    if not os.path.exists(created_file):\n",
    "        raise IOError (f\"Required file {created_file} not found. Please ensure it is in the directory.\")\n",
    "    print(\"Sucessfully created file:\", created_file)\n",
    "    \n",
    "print(\"Done\")"
   ]
  },
  {
   "cell_type": "markdown",
   "metadata": {},
   "source": [
    "Import the Silva + Metaxa2 files into Qiime2 and export as qza files"
   ]
  },
  {
   "cell_type": "code",
   "execution_count": 8,
   "metadata": {},
   "outputs": [],
   "source": [
    "#create Silva taxonomy and ASV artifacts\n",
    "silva_otu = Artifact.import_data('FeatureData[Sequence]', silva_fasta_path)\n",
    "silva_taxonomy = Artifact.import_data('FeatureData[Taxonomy]', silva_taxonomy_path, 'HeaderlessTSVTaxonomyFormat')"
   ]
  },
  {
   "cell_type": "code",
   "execution_count": 9,
   "metadata": {},
   "outputs": [],
   "source": [
    "#create silva+m2 taxonomy and ASV artifacts\n",
    "silva_m2_otu = Artifact.import_data('FeatureData[Sequence]', silva_plus_m2_fasta_path)\n",
    "silva_m2_taxonomy = Artifact.import_data('FeatureData[Taxonomy]', silva_plus_m2_taxonomy_path, 'HeaderlessTSVTaxonomyFormat')"
   ]
  },
  {
   "cell_type": "code",
   "execution_count": 10,
   "metadata": {},
   "outputs": [
    {
     "data": {
      "text/plain": [
       "'silva_m2_taxonomy.qza'"
      ]
     },
     "execution_count": 10,
     "metadata": {},
     "output_type": "execute_result"
    }
   ],
   "source": [
    "#export the artifacts to the output folder\n",
    "silva_otu.save('silva_otu.qza')\n",
    "silva_taxonomy.save('silva_taxonomy.qza')\n",
    "silva_m2_otu.save('silva_m2_otu.qza')\n",
    "silva_m2_taxonomy.save('silva_m2_taxonomy.qza')"
   ]
  },
  {
   "cell_type": "code",
   "execution_count": null,
   "metadata": {},
   "outputs": [],
   "source": []
  }
 ],
 "metadata": {
  "kernelspec": {
   "display_name": "Python 3",
   "language": "python",
   "name": "python3"
  },
  "language_info": {
   "codemirror_mode": {
    "name": "ipython",
    "version": 3
   },
   "file_extension": ".py",
   "mimetype": "text/x-python",
   "name": "python",
   "nbconvert_exporter": "python",
   "pygments_lexer": "ipython3",
   "version": "3.6.12"
  }
 },
 "nbformat": 4,
 "nbformat_minor": 4
}
